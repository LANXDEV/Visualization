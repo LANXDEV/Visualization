{
 "cells": [
  {
   "cell_type": "markdown",
   "metadata": {},
   "source": [
    "# Notebook para Visualização de Dados"
   ]
  },
  {
   "cell_type": "markdown",
   "metadata": {},
   "source": [
    "## Pegar Tabela"
   ]
  },
  {
   "cell_type": "code",
   "execution_count": 2,
   "metadata": {},
   "outputs": [],
   "source": [
    "import pandas as pd\n",
    "url=\"https://raw.githubusercontent.com/LANXDEV/Visualization/master/Teste_Python.csv\"\n",
    "tabela=pd.read_csv(url)"
   ]
  },
  {
   "cell_type": "code",
   "execution_count": 3,
   "metadata": {},
   "outputs": [
    {
     "data": {
      "text/html": [
       "<div>\n",
       "<style>\n",
       "    .dataframe thead tr:only-child th {\n",
       "        text-align: right;\n",
       "    }\n",
       "\n",
       "    .dataframe thead th {\n",
       "        text-align: left;\n",
       "    }\n",
       "\n",
       "    .dataframe tbody tr th {\n",
       "        vertical-align: top;\n",
       "    }\n",
       "</style>\n",
       "<table border=\"1\" class=\"dataframe\">\n",
       "  <thead>\n",
       "    <tr style=\"text-align: right;\">\n",
       "      <th></th>\n",
       "      <th>Emissor</th>\n",
       "      <th>Vencimento</th>\n",
       "      <th>Rating</th>\n",
       "      <th>Emissao</th>\n",
       "      <th>Cupom</th>\n",
       "      <th>Duration</th>\n",
       "      <th>YTW</th>\n",
       "      <th>YTM</th>\n",
       "    </tr>\n",
       "  </thead>\n",
       "  <tbody>\n",
       "    <tr>\n",
       "      <th>0</th>\n",
       "      <td>NKE</td>\n",
       "      <td>1/1/2027</td>\n",
       "      <td>A</td>\n",
       "      <td>1/1/2015</td>\n",
       "      <td>2</td>\n",
       "      <td>3.0</td>\n",
       "      <td>3.0</td>\n",
       "      <td>6.0</td>\n",
       "    </tr>\n",
       "    <tr>\n",
       "      <th>1</th>\n",
       "      <td>MSFT</td>\n",
       "      <td>1/1/2028</td>\n",
       "      <td>AA</td>\n",
       "      <td>1/1/2015</td>\n",
       "      <td>3</td>\n",
       "      <td>4.0</td>\n",
       "      <td>2.0</td>\n",
       "      <td>5.0</td>\n",
       "    </tr>\n",
       "    <tr>\n",
       "      <th>2</th>\n",
       "      <td>CVX</td>\n",
       "      <td>1/1/2029</td>\n",
       "      <td>B</td>\n",
       "      <td>1/1/2015</td>\n",
       "      <td>4</td>\n",
       "      <td>5.0</td>\n",
       "      <td>6.0</td>\n",
       "      <td>2.0</td>\n",
       "    </tr>\n",
       "    <tr>\n",
       "      <th>3</th>\n",
       "      <td>NLSN</td>\n",
       "      <td>1/1/2030</td>\n",
       "      <td>BB</td>\n",
       "      <td>1/1/2015</td>\n",
       "      <td>5</td>\n",
       "      <td>6.0</td>\n",
       "      <td>4.0</td>\n",
       "      <td>2.0</td>\n",
       "    </tr>\n",
       "    <tr>\n",
       "      <th>4</th>\n",
       "      <td>ITUB</td>\n",
       "      <td>1/1/2031</td>\n",
       "      <td>CCC</td>\n",
       "      <td>1/1/2015</td>\n",
       "      <td>6</td>\n",
       "      <td>7.0</td>\n",
       "      <td>4.0</td>\n",
       "      <td>3.0</td>\n",
       "    </tr>\n",
       "    <tr>\n",
       "      <th>5</th>\n",
       "      <td>BBDC</td>\n",
       "      <td>1/1/2032</td>\n",
       "      <td>BB+</td>\n",
       "      <td>1/1/2015</td>\n",
       "      <td>7</td>\n",
       "      <td>8.0</td>\n",
       "      <td>3.0</td>\n",
       "      <td>6.0</td>\n",
       "    </tr>\n",
       "    <tr>\n",
       "      <th>6</th>\n",
       "      <td>CSNA</td>\n",
       "      <td>1/1/2033</td>\n",
       "      <td>BB</td>\n",
       "      <td>1/1/2015</td>\n",
       "      <td>8</td>\n",
       "      <td>9.0</td>\n",
       "      <td>4.0</td>\n",
       "      <td>5.0</td>\n",
       "    </tr>\n",
       "  </tbody>\n",
       "</table>\n",
       "</div>"
      ],
      "text/plain": [
       "  Emissor Vencimento Rating   Emissao  Cupom  Duration  YTW  YTM\n",
       "0     NKE   1/1/2027      A  1/1/2015      2       3.0  3.0  6.0\n",
       "1    MSFT   1/1/2028     AA  1/1/2015      3       4.0  2.0  5.0\n",
       "2     CVX   1/1/2029      B  1/1/2015      4       5.0  6.0  2.0\n",
       "3    NLSN   1/1/2030     BB  1/1/2015      5       6.0  4.0  2.0\n",
       "4    ITUB   1/1/2031    CCC  1/1/2015      6       7.0  4.0  3.0\n",
       "5    BBDC   1/1/2032    BB+  1/1/2015      7       8.0  3.0  6.0\n",
       "6    CSNA   1/1/2033     BB  1/1/2015      8       9.0  4.0  5.0"
      ]
     },
     "execution_count": 3,
     "metadata": {},
     "output_type": "execute_result"
    }
   ],
   "source": [
    "tabela"
   ]
  },
  {
   "cell_type": "code",
   "execution_count": null,
   "metadata": {
    "collapsed": true
   },
   "outputs": [],
   "source": []
  },
  {
   "cell_type": "code",
   "execution_count": null,
   "metadata": {
    "collapsed": true
   },
   "outputs": [],
   "source": []
  },
  {
   "cell_type": "code",
   "execution_count": null,
   "metadata": {
    "collapsed": true
   },
   "outputs": [],
   "source": []
  }
 ],
 "metadata": {
  "kernelspec": {
   "display_name": "Python 3",
   "language": "python",
   "name": "python3"
  },
  "language_info": {
   "codemirror_mode": {
    "name": "ipython",
    "version": 3
   },
   "file_extension": ".py",
   "mimetype": "text/x-python",
   "name": "python",
   "nbconvert_exporter": "python",
   "pygments_lexer": "ipython3",
   "version": "3.6.2"
  }
 },
 "nbformat": 4,
 "nbformat_minor": 2
}
